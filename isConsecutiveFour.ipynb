{
 "cells": [
  {
   "cell_type": "code",
   "execution_count": 12,
   "metadata": {},
   "outputs": [],
   "source": [
    "def isConsecutiveFour(list):\n",
    "    #Print Array\n",
    "    for x in list:\n",
    "        print(*x, sep=\" \")\n",
    "    #Check Rows\n",
    "    for x in range(0, len(list)):\n",
    "        if checkArray(list[x]):\n",
    "            print(temp)\n",
    "            return True\n",
    "    #Check Cols\n",
    "    for x in range(0, len(list[0])):\n",
    "        temp=[]\n",
    "        for y in range(0, len(list)):\n",
    "            temp.append(list[y][x])\n",
    "        if checkArray(temp):\n",
    "            print(temp)\n",
    "            return True\n",
    "    #Check down right diagonals\n",
    "    for x in range(0, len(list)):\n",
    "        y=0\n",
    "        temp=[list[x][y]]\n",
    "        count=1\n",
    "        #Checking diagonals going from (0,0) and iterating down\n",
    "        while x+count<len(list) and y+count<len(list[0]):\n",
    "            temp.append(list[x+count][y+count])\n",
    "            count+=1\n",
    "        if checkArray(temp):\n",
    "            print(temp)\n",
    "            return True\n",
    "        count=1\n",
    "        temp=[list[x][len(list[0])-y-1]]\n",
    "        #Checking diagonals going from (0,len(list[0])-1) and iterating to right\n",
    "        while x+count<len(list) and y+count<len(list[x]):\n",
    "            temp.append(list[x+count][len(list[0])-y-1-count])\n",
    "            count+=1\n",
    "        if checkArray(temp):\n",
    "            print(temp)\n",
    "            return True\n",
    "    #Check down left diagonals\n",
    "    for x in range(1, len(list[0])):\n",
    "        y=0\n",
    "        temp=[list[y][x]]\n",
    "        count=1\n",
    "        #Checking diagonals starting from (0,1) and iterating to right\n",
    "        while x-count>-1 and y+count<len(list):\n",
    "            temp.append(list[y+count][x-count])\n",
    "            count+=1\n",
    "        if checkArray(temp):\n",
    "            print(temp)\n",
    "            return True\n",
    "        count=1\n",
    "        temp=[list[y][len(list[0])-x-1]]\n",
    "        #Checking diagonals starting from (0, len(list)-1) and iterating to right\n",
    "        while y+count<len(list) and x+count<len(list[0]):\n",
    "            temp.append(list[y+count][len(list[0])-x-1-count])\n",
    "            count+=1\n",
    "        if checkArray(temp):\n",
    "            print(temp)\n",
    "            return True\n",
    "    return False"
   ]
  },
  {
   "cell_type": "code",
   "execution_count": 18,
   "metadata": {},
   "outputs": [],
   "source": [
    "def checkArray(list):\n",
    "    counter=0\n",
    "    for x in range(0, len(list)):\n",
    "        while counter!=4:\n",
    "            if counter+x>=len(list):\n",
    "                break\n",
    "            if list[x]==list[x+counter]:\n",
    "                counter+=1\n",
    "                if counter==4:\n",
    "                    return True\n",
    "            else:\n",
    "                counter=0\n",
    "                break\n",
    "    return False"
   ]
  },
  {
   "cell_type": "code",
   "execution_count": 20,
   "metadata": {},
   "outputs": [
    {
     "name": "stdout",
     "output_type": "stream",
     "text": [
      "1 2 3 1\n",
      "2 3 4 4\n",
      "1 1 4 3\n",
      "4 4 1 2\n",
      "4 3 2 1\n",
      "[4, 4, 4, 4]\n"
     ]
    },
    {
     "data": {
      "text/plain": [
       "True"
      ]
     },
     "execution_count": 20,
     "metadata": {},
     "output_type": "execute_result"
    }
   ],
   "source": [
    "isConsecutiveFour([[1,2,3,1],[2,3,4,4],[1,1,4,3],[4,4,1,2],[4,3,2,1]])"
   ]
  },
  {
   "cell_type": "code",
   "execution_count": 106,
   "metadata": {},
   "outputs": [
    {
     "name": "stdout",
     "output_type": "stream",
     "text": [
      "How many rows: 6\n",
      "How many cols: 7\n",
      "Enter a number: 0\n",
      "Enter a number: 1\n",
      "Enter a number: 0\n",
      "Enter a number: 3\n",
      "Enter a number: 1\n",
      "Enter a number: 6\n",
      "Enter a number: 1\n",
      "Next Row:\n",
      "\n",
      "Enter a number: 0\n",
      "Enter a number: 1\n",
      "Enter a number: 6\n",
      "Enter a number: 8\n",
      "Enter a number: 0\n",
      "Enter a number: 1\n",
      "Enter a number: 5\n",
      "Next Row:\n",
      "\n",
      "Enter a number: 6\n",
      "Enter a number: 2\n",
      "Enter a number: 5\n",
      "Enter a number: 1\n",
      "Enter a number: 6\n",
      "Enter a number: 2\n",
      "Enter a number: 9\n",
      "Next Row:\n",
      "\n",
      "Enter a number: 6\n",
      "Enter a number: 5\n",
      "Enter a number: 6\n",
      "Enter a number: 6\n",
      "Enter a number: 1\n",
      "Enter a number: 9\n",
      "Enter a number: 1\n",
      "Next Row:\n",
      "\n",
      "Enter a number: 1\n",
      "Enter a number: 3\n",
      "Enter a number: 6\n",
      "Enter a number: 1\n",
      "Enter a number: 4\n",
      "Enter a number: 0\n",
      "Enter a number: 7\n",
      "Next Row:\n",
      "\n",
      "Enter a number: 3\n",
      "Enter a number: 6\n",
      "Enter a number: 3\n",
      "Enter a number: 3\n",
      "Enter a number: 4\n",
      "Enter a number: 0\n",
      "Enter a number: 7\n",
      "0 1 0 3 1 6 1\n",
      "0 1 6 8 0 1 5\n",
      "6 2 5 1 6 2 9\n",
      "6 5 6 6 1 9 1\n",
      "1 3 6 1 4 0 7\n",
      "3 6 3 3 4 0 7\n",
      "True\n"
     ]
    }
   ],
   "source": [
    "def main():\n",
    "    list=[]\n",
    "    numRows=int(input(\"How many rows: \"))\n",
    "    numCols=int(input(\"How many cols: \"))\n",
    "    for x in range(0, numRows):\n",
    "        temp=[]\n",
    "        for y in range(0, numCols):\n",
    "            num=int(input(\"Enter a number: \"))\n",
    "            temp.append(num)\n",
    "        list.append(temp)\n",
    "        if x!= numRows-1:\n",
    "            print(\"Next Row:\\n\")\n",
    "    print(isConsecutiveFour(list))\n",
    "main()"
   ]
  },
  {
   "cell_type": "code",
   "execution_count": 19,
   "metadata": {},
   "outputs": [
    {
     "data": {
      "text/plain": [
       "False"
      ]
     },
     "execution_count": 19,
     "metadata": {},
     "output_type": "execute_result"
    }
   ],
   "source": [
    "checkArray([2,1,1,1])"
   ]
  },
  {
   "cell_type": "code",
   "execution_count": null,
   "metadata": {},
   "outputs": [],
   "source": []
  }
 ],
 "metadata": {
  "kernelspec": {
   "display_name": "Python 3",
   "language": "python",
   "name": "python3"
  },
  "language_info": {
   "codemirror_mode": {
    "name": "ipython",
    "version": 3
   },
   "file_extension": ".py",
   "mimetype": "text/x-python",
   "name": "python",
   "nbconvert_exporter": "python",
   "pygments_lexer": "ipython3",
   "version": "3.6.5"
  }
 },
 "nbformat": 4,
 "nbformat_minor": 2
}
