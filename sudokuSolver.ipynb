{
 "cells": [
  {
   "cell_type": "code",
   "execution_count": 22,
   "metadata": {
    "scrolled": false
   },
   "outputs": [],
   "source": [
    "import sys\n",
    "def sudokuSolver(board):\n",
    "    sys.setrecursionlimit(33000)\n",
    "    tupleList=[]\n",
    "    for x in range(0, len(board)):\n",
    "        for y in range(0, len(board[x])):\n",
    "            if board[x][y]!=0:\n",
    "                tupleList.append((x,y))\n",
    "    print(*board,sep='\\n',end='\\n\\n')\n",
    "    print(\"Solution:\\n\")\n",
    "    place(board,0,0,False,tupleList)"
   ]
  },
  {
   "cell_type": "code",
   "execution_count": 23,
   "metadata": {
    "scrolled": false
   },
   "outputs": [],
   "source": [
    "def place(board,x,y,isError, tupleList):\n",
    "    if (x,y) in tupleList:\n",
    "        if isError:\n",
    "            y-=1\n",
    "            if y==-1:\n",
    "                x-=1\n",
    "                if x==-1:\n",
    "                    print(\"Impossible\")\n",
    "                    return -1\n",
    "                else:\n",
    "                    y=len(board[x])-1\n",
    "            place(board,x,y,isError,tupleList)\n",
    "        else:\n",
    "            y+=1\n",
    "            if y==9:\n",
    "                x+=1\n",
    "                if x==9:\n",
    "                    print(*board,sep='\\n',end='\\n\\n')\n",
    "                    return -1\n",
    "                y=0\n",
    "            place(board, x,y,isError, tupleList)\n",
    "    else:\n",
    "        val=1\n",
    "        while val<10:\n",
    "            if isLegal(getRow(board,x),val) and isLegal(getColumn(board,y),val) and isLegal(getBox(board,x,y),val):\n",
    "                if val>board[x][y]:\n",
    "                    board[x][y]=val\n",
    "                    if isError:\n",
    "                        isError=False\n",
    "                    y+=1\n",
    "                    if y==9:\n",
    "                        x+=1\n",
    "                        if x==9:\n",
    "                            print(*board,sep='\\n',end='\\n\\n')\n",
    "                            return -1\n",
    "                        y=0\n",
    "                    place(board,x,y,isError, tupleList)\n",
    "                    break\n",
    "                else:\n",
    "                    val+=1\n",
    "            else:\n",
    "                val+=1\n",
    "        if val>=10:\n",
    "            board[x][y]=0\n",
    "            isError=True\n",
    "            y-=1\n",
    "            if y==-1:\n",
    "                x-=1\n",
    "                if x==-1:\n",
    "                    print(\"Impossible\")\n",
    "                    return -1\n",
    "                else:\n",
    "                    y=len(board[x])-1\n",
    "            place(board,x,y,isError, tupleList)"
   ]
  },
  {
   "cell_type": "code",
   "execution_count": 24,
   "metadata": {
    "scrolled": false
   },
   "outputs": [],
   "source": [
    "def getColumn(board, y):\n",
    "    list=[]\n",
    "    for x in range(0,len(board)):\n",
    "        list.append(board[x][y])\n",
    "    return list"
   ]
  },
  {
   "cell_type": "code",
   "execution_count": 25,
   "metadata": {
    "scrolled": false
   },
   "outputs": [],
   "source": [
    "def getRow(board, x):\n",
    "    return board[x]"
   ]
  },
  {
   "cell_type": "code",
   "execution_count": 26,
   "metadata": {
    "scrolled": false
   },
   "outputs": [],
   "source": [
    "def getBox(board,x,y):\n",
    "    boxNum=((x//3),(y//3))\n",
    "    list=[]\n",
    "    for x in range(3*boxNum[0],3*(boxNum[0]+1)):\n",
    "        for y in range(3*boxNum[1],3*(boxNum[1]+1)):\n",
    "            list.append(board[x][y])\n",
    "    return list"
   ]
  },
  {
   "cell_type": "code",
   "execution_count": 27,
   "metadata": {
    "scrolled": false
   },
   "outputs": [],
   "source": [
    "def isLegal(list, val):\n",
    "    if val in list:\n",
    "        return False\n",
    "    return True"
   ]
  },
  {
   "cell_type": "code",
   "execution_count": 28,
   "metadata": {
    "scrolled": true
   },
   "outputs": [
    {
     "name": "stdout",
     "output_type": "stream",
     "text": [
      "[5, 3, 0, 0, 7, 0, 0, 0, 0]\n",
      "[6, 0, 0, 1, 9, 5, 0, 0, 0]\n",
      "[0, 9, 8, 0, 0, 0, 0, 6, 0]\n",
      "[8, 0, 0, 0, 6, 0, 0, 0, 3]\n",
      "[4, 0, 0, 8, 0, 3, 0, 0, 1]\n",
      "[7, 0, 0, 0, 2, 0, 0, 0, 6]\n",
      "[0, 6, 0, 0, 0, 0, 2, 8, 0]\n",
      "[0, 0, 0, 4, 1, 9, 0, 0, 5]\n",
      "[0, 0, 0, 0, 8, 0, 0, 7, 9]\n",
      "\n",
      "Solution:\n",
      "\n",
      "[5, 3, 4, 6, 7, 8, 9, 1, 2]\n",
      "[6, 7, 2, 1, 9, 5, 3, 4, 8]\n",
      "[1, 9, 8, 3, 4, 2, 5, 6, 7]\n",
      "[8, 5, 9, 7, 6, 1, 4, 2, 3]\n",
      "[4, 2, 6, 8, 5, 3, 7, 9, 1]\n",
      "[7, 1, 3, 9, 2, 4, 8, 5, 6]\n",
      "[9, 6, 1, 5, 3, 7, 2, 8, 4]\n",
      "[2, 8, 7, 4, 1, 9, 6, 3, 5]\n",
      "[3, 4, 5, 2, 8, 6, 1, 7, 9]\n",
      "\n"
     ]
    }
   ],
   "source": [
    "sudokuSolver([[5,3,0,0,7,0,0,0,0], \n",
    "              [6,0,0,1,9,5,0,0,0],\n",
    "              [0,9,8,0,0,0,0,6,0],\n",
    "              [8,0,0,0,6,0,0,0,3],\n",
    "              [4,0,0,8,0,3,0,0,1],\n",
    "              [7,0,0,0,2,0,0,0,6],\n",
    "              [0,6,0,0,0,0,2,8,0],\n",
    "              [0,0,0,4,1,9,0,0,5],\n",
    "              [0,0,0,0,8,0,0,7,9]])"
   ]
  },
  {
   "cell_type": "code",
   "execution_count": null,
   "metadata": {},
   "outputs": [],
   "source": []
  },
  {
   "cell_type": "code",
   "execution_count": null,
   "metadata": {},
   "outputs": [],
   "source": []
  },
  {
   "cell_type": "code",
   "execution_count": null,
   "metadata": {},
   "outputs": [],
   "source": []
  }
 ],
 "metadata": {
  "kernelspec": {
   "display_name": "Python 3",
   "language": "python",
   "name": "python3"
  },
  "language_info": {
   "codemirror_mode": {
    "name": "ipython",
    "version": 3
   },
   "file_extension": ".py",
   "mimetype": "text/x-python",
   "name": "python",
   "nbconvert_exporter": "python",
   "pygments_lexer": "ipython3",
   "version": "3.6.5"
  }
 },
 "nbformat": 4,
 "nbformat_minor": 2
}
