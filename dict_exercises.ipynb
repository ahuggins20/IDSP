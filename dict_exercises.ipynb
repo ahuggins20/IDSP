{
 "cells": [
  {
   "cell_type": "code",
   "execution_count": 5,
   "metadata": {},
   "outputs": [],
   "source": [
    "def dict_ex1():\n",
    "    file=open(\"Desktop/words.txt\",'r')\n",
    "    mydict={}\n",
    "    words=file.read()\n",
    "    list=words.split()\n",
    "    for word in list:\n",
    "        mydict[word]=\" \"\n",
    "    print(mydict)"
   ]
  },
  {
   "cell_type": "code",
   "execution_count": 6,
   "metadata": {},
   "outputs": [
    {
     "name": "stdout",
     "output_type": "stream",
     "text": [
      "{'Writing': ' ', 'programs': ' ', 'or': ' ', 'programming': ' ', 'is': ' ', 'a': ' ', 'very': ' ', 'creative': ' ', 'and': ' ', 'rewarding': ' ', 'activity': ' ', 'You': ' ', 'can': ' ', 'write': ' ', 'for': ' ', 'many': ' ', 'reasons': ' ', 'ranging': ' ', 'from': ' ', 'making': ' ', 'your': ' ', 'living': ' ', 'to': ' ', 'solving': ' ', 'difficult': ' ', 'data': ' ', 'analysis': ' ', 'problem': ' ', 'having': ' ', 'fun': ' ', 'helping': ' ', 'someone': ' ', 'else': ' ', 'solve': ' ', 'This': ' ', 'book': ' ', 'assumes': ' ', 'that': ' ', '{\\\\em': ' ', 'everyone}': ' ', 'needs': ' ', 'know': ' ', 'how': ' ', 'program': ' ', 'once': ' ', 'you': ' ', 'program,': ' ', 'will': ' ', 'figure': ' ', 'out': ' ', 'what': ' ', 'want': ' ', 'do': ' ', 'with': ' ', 'newfound': ' ', 'skills': ' ', 'We': ' ', 'are': ' ', 'surrounded': ' ', 'in': ' ', 'our': ' ', 'daily': ' ', 'lives': ' ', 'computers': ' ', 'laptops': ' ', 'cell': ' ', 'phones': ' ', 'think': ' ', 'of': ' ', 'these': ' ', 'as': ' ', 'personal': ' ', 'assistants': ' ', 'who': ' ', 'take': ' ', 'care': ' ', 'things': ' ', 'on': ' ', 'behalf': ' ', 'The': ' ', 'hardware': ' ', 'current-day': ' ', 'essentially': ' ', 'built': ' ', 'continuously': ' ', 'ask': ' ', 'us': ' ', 'the': ' ', 'question': ' ', 'What': ' ', 'would': ' ', 'like': ' ', 'me': ' ', 'next': ' ', 'Our': ' ', 'fast': ' ', 'have': ' ', 'vasts': ' ', 'amounts': ' ', 'memory': ' ', 'could': ' ', 'be': ' ', 'helpful': ' ', 'if': ' ', 'we': ' ', 'only': ' ', 'knew': ' ', 'language': ' ', 'speak': ' ', 'explain': ' ', 'computer': ' ', 'it': ' ', 'If': ' ', 'this': ' ', 'tell': ' ', 'tasks': ' ', 'were': ' ', 'reptitive': ' ', 'Interestingly,': ' ', 'kinds': ' ', 'best': ' ', 'often': ' ', 'humans': ' ', 'find': ' ', 'boring': ' ', 'mind-numbing': ' '}\n"
     ]
    }
   ],
   "source": [
    "dict_ex1()"
   ]
  },
  {
   "cell_type": "code",
   "execution_count": 17,
   "metadata": {},
   "outputs": [],
   "source": [
    "def dict_ex2():\n",
    "    file=open(\"Desktop/mbox-short.txt\",\"r\")\n",
    "    list=file.readlines()\n",
    "    dict={'Fri': 0,'Sat': 0, \"Thu\": 0}\n",
    "    for ele in list:\n",
    "        words=ele.split(\" \")\n",
    "        if words[0]==\"From\":\n",
    "            dict[words[2]]+=1\n",
    "    print(dict)"
   ]
  },
  {
   "cell_type": "code",
   "execution_count": 8,
   "metadata": {},
   "outputs": [
    {
     "name": "stdout",
     "output_type": "stream",
     "text": [
      "{'Fri': 20, 'Sat': 1, 'Thu': 6}\n"
     ]
    }
   ],
   "source": [
    "dict_ex2()"
   ]
  },
  {
   "cell_type": "code",
   "execution_count": 18,
   "metadata": {},
   "outputs": [],
   "source": [
    "def dict_ex3():\n",
    "    file=open(\"Desktop/mbox-short.txt\",\"r\")\n",
    "    list=file.readlines()\n",
    "    emails=[]\n",
    "    for ele in list:\n",
    "        words=ele.split(\" \")\n",
    "        if words[0]==\"From\":\n",
    "            emails.append(words[1])\n",
    "    dict={}\n",
    "    for email in emails:\n",
    "        dict[email]=0\n",
    "    for email in emails:\n",
    "        dict[email]+=1\n",
    "    print(dict)"
   ]
  },
  {
   "cell_type": "code",
   "execution_count": 10,
   "metadata": {},
   "outputs": [
    {
     "name": "stdout",
     "output_type": "stream",
     "text": [
      "{'stephen.marquard@uct.ac.za': 2, 'louis@media.berkeley.edu': 3, 'zqian@umich.edu': 4, 'rjlowe@iupui.edu': 2, 'cwen@iupui.edu': 5, 'gsilver@umich.edu': 3, 'wagnermr@iupui.edu': 1, 'antranig@caret.cam.ac.uk': 1, 'gopal.ramasammycook@gmail.com': 1, 'david.horwitz@uct.ac.za': 4, 'ray@media.berkeley.edu': 1}\n"
     ]
    }
   ],
   "source": [
    "dict_ex3()"
   ]
  },
  {
   "cell_type": "code",
   "execution_count": 19,
   "metadata": {},
   "outputs": [],
   "source": [
    "def dict_ex4():\n",
    "    file=open(\"Desktop/mbox-short.txt\",\"r\")\n",
    "    list=file.readlines()\n",
    "    emails=[]\n",
    "    for ele in list:\n",
    "        words=ele.split(\" \")\n",
    "        if words[0]==\"From\":\n",
    "            emails.append(words[1])\n",
    "    dict={}\n",
    "    for email in emails:\n",
    "        dict[email]=0\n",
    "    for email in emails:\n",
    "        dict[email]+=1\n",
    "    maxNum=0\n",
    "    theKey=\"\"\n",
    "    for key, value in dict.items():\n",
    "        if value>maxNum:\n",
    "            maxNum=value\n",
    "            theKey=key\n",
    "    print(theKey+\" \"+ str(maxNum))"
   ]
  },
  {
   "cell_type": "code",
   "execution_count": 20,
   "metadata": {},
   "outputs": [
    {
     "name": "stdout",
     "output_type": "stream",
     "text": [
      "cwen@iupui.edu 5\n"
     ]
    }
   ],
   "source": [
    "dict_ex4()"
   ]
  },
  {
   "cell_type": "code",
   "execution_count": 15,
   "metadata": {},
   "outputs": [],
   "source": [
    "def dict_ex5():\n",
    "    file=open(\"Desktop/mbox-short.txt\",\"r\")\n",
    "    list=file.readlines()\n",
    "    emails=[]\n",
    "    for ele in list:\n",
    "        words=ele.split(\" \")\n",
    "        if words[0]==\"From\":\n",
    "            emails.append(words[1])\n",
    "    dict={}\n",
    "    for email in emails:\n",
    "        list=email.split(\"@\")\n",
    "        dict[list[1]]=dict.get(list[1],0)+1\n",
    "    print (dict)"
   ]
  },
  {
   "cell_type": "code",
   "execution_count": 16,
   "metadata": {},
   "outputs": [
    {
     "name": "stdout",
     "output_type": "stream",
     "text": [
      "{'uct.ac.za': 6, 'media.berkeley.edu': 4, 'umich.edu': 7, 'iupui.edu': 8, 'caret.cam.ac.uk': 1, 'gmail.com': 1}\n"
     ]
    }
   ],
   "source": [
    "dict_ex5()"
   ]
  },
  {
   "cell_type": "code",
   "execution_count": null,
   "metadata": {},
   "outputs": [],
   "source": []
  }
 ],
 "metadata": {
  "kernelspec": {
   "display_name": "Python 3",
   "language": "python",
   "name": "python3"
  },
  "language_info": {
   "codemirror_mode": {
    "name": "ipython",
    "version": 3
   },
   "file_extension": ".py",
   "mimetype": "text/x-python",
   "name": "python",
   "nbconvert_exporter": "python",
   "pygments_lexer": "ipython3",
   "version": "3.6.5"
  }
 },
 "nbformat": 4,
 "nbformat_minor": 2
}
