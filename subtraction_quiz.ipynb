{
 "cells": [
  {
   "cell_type": "code",
   "execution_count": 4,
   "metadata": {},
   "outputs": [
    {
     "name": "stdout",
     "output_type": "stream",
     "text": [
      " \n",
      "Enter your first name: a\n",
      "Enter your last name: a\n",
      "What is the value of: 72-21: 51\n",
      "What is the value of: 96-62: 34\n",
      "What is the va1ue of: 58-36: 22\n",
      "What is the value of: 88-6: 82\n",
      "What is the value of: 83-82: 1\n",
      " \n",
      "Enter your first name: b\n",
      "Enter your last name: b\n",
      "What is the va1ue of: 51-33: 18\n",
      "What is the value of: 63-62: 1\n",
      "What is the va1ue of: 46-41: 5\n",
      "What is the value of: 67-23: 44\n",
      "What is the value of: 27-15: 12\n",
      "Name: a a, Percentage: 100.0\n",
      "Name: b b, Percentage: 100.0\n"
     ]
    }
   ],
   "source": [
    "import random\n",
    "def subtraction_quiz():\n",
    "    dict={\n",
    "        \"stu1\":[],\n",
    "        \"stu2\":[],\n",
    "        \"stu3\":[],\n",
    "        \"stu4\":[],\n",
    "        \"stu5\":[]\n",
    "    }\n",
    "    for stu in dict:\n",
    "        print(' ')\n",
    "        dict[stu].append(input(\"Enter your first name: \"))\n",
    "        dict[stu].append(input(\"Enter your last name: \"))\n",
    "        numCorrect=0\n",
    "        totCorrect=0\n",
    "        num=0\n",
    "        while numCorrect<5:\n",
    "            n=random.randint(1,100)\n",
    "            m=random.randint(1,100)\n",
    "            if n>m:\n",
    "                ans=int(input(\"What is the va1ue of: \"+str(n)+\"-\"+str(m)+\": \"))\n",
    "                num=num+1\n",
    "                if int(ans)==n-m:\n",
    "                    numCorrect+=1\n",
    "                    totCorrect+=1\n",
    "                else:\n",
    "                    numCorrect=0\n",
    "            else:\n",
    "                ans=int(input(\"What is the value of: \"+str(m)+\"-\"+str(n)+\": \"))\n",
    "                num=num+1\n",
    "                if int(ans)==m-n:\n",
    "                    numCorrect+=1\n",
    "                    totCorrect+=1\n",
    "                else:\n",
    "                    numCorrect=0\n",
    "        dict[stu].append(100*(totCorrect/num))    \n",
    "    print(' ')\n",
    "    for stu in dict.values():\n",
    "        print(\"Name: \"+stu[0]+\" \"+stu[1]+\", Percentage: \"+str(stu[2]))\n",
    "subtraction_quiz()      \n",
    "    "
   ]
  },
  {
   "cell_type": "code",
   "execution_count": null,
   "metadata": {},
   "outputs": [],
   "source": []
  },
  {
   "cell_type": "code",
   "execution_count": null,
   "metadata": {},
   "outputs": [],
   "source": []
  },
  {
   "cell_type": "code",
   "execution_count": null,
   "metadata": {},
   "outputs": [],
   "source": []
  }
 ],
 "metadata": {
  "kernelspec": {
   "display_name": "Python 3",
   "language": "python",
   "name": "python3"
  },
  "language_info": {
   "codemirror_mode": {
    "name": "ipython",
    "version": 3
   },
   "file_extension": ".py",
   "mimetype": "text/x-python",
   "name": "python",
   "nbconvert_exporter": "python",
   "pygments_lexer": "ipython3",
   "version": "3.6.5"
  }
 },
 "nbformat": 4,
 "nbformat_minor": 2
}
