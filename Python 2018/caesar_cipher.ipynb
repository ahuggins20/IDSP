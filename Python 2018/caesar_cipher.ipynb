{
 "cells": [
  {
   "cell_type": "code",
   "execution_count": 61,
   "metadata": {},
   "outputs": [],
   "source": [
    "def caesar_encrypt(words, x):\n",
    "    x=x%26\n",
    "    alpha=['A','B','C','D','E','F','G','H','I','J','K','L','M','N','O','P','Q','R','S','T','U','V','W','X','Y','Z']\n",
    "    words=words.upper()\n",
    "    list=words.split()\n",
    "    out=[]\n",
    "    for word in list:\n",
    "        temp=\"\"\n",
    "        for ch in word:\n",
    "            temp+=alpha[(x+alpha.index(ch))%26]\n",
    "        temp=temp.lower()\n",
    "        out.append(temp)\n",
    "    print(*out, sep=\" \")"
   ]
  },
  {
   "cell_type": "code",
   "execution_count": 62,
   "metadata": {},
   "outputs": [],
   "source": [
    "def caesar_decrypt(words,x):\n",
    "    x=x%26\n",
    "    alpha=['A','B','C','D','E','F','G','H','I','J','K','L','M','N','O','P','Q','R','S','T','U','V','W','X','Y','Z']\n",
    "    words=words.upper()\n",
    "    list=words.split()\n",
    "    out=[]\n",
    "    for word in list:\n",
    "        temp=\"\"\n",
    "        for ch in word:\n",
    "            temp+=alpha[(alpha.index(ch)-x)%26]\n",
    "        temp=temp.lower()\n",
    "        out.append(temp)\n",
    "    print(*out, sep=\" \")"
   ]
  },
  {
   "cell_type": "code",
   "execution_count": 77,
   "metadata": {},
   "outputs": [],
   "source": [
    "def caesar_find_and_decrypt(words):\n",
    "    dict={'a':0,'b':0,'c':0,'d':0,'e':0,'f':0,'g':0,'h':0,'i':0,'j':0,\n",
    "          'k':0,'l':0,'m':0,'n':0,'o':0,'p':0,'q':0,'r':0,'s':0,'t':0,\n",
    "          'u':0,'v':0,'w':0,'x':0,'y':0,'z':0}\n",
    "    isGood='F'\n",
    "    words=words.lower()\n",
    "    list=words.split()\n",
    "    for word in list:\n",
    "        for ch in word:\n",
    "            dict[ch]+=1\n",
    "    while isGood is 'F':\n",
    "        mostCh=max(dict.values())\n",
    "        key=find_value(dict, mostCh)\n",
    "        for val in key:\n",
    "            diff=(ord(val)-101)%26\n",
    "            caesar_decrypt(words, diff)\n",
    "        print()\n",
    "        isGood=input(\"Is this acceptable?(T/F): \")\n",
    "        print()\n",
    "        if isGood is 'T':\n",
    "            caesar_decrypt(words, diff)\n",
    "            break\n",
    "        else:\n",
    "            for val in key:\n",
    "                dict.pop(val)"
   ]
  },
  {
   "cell_type": "code",
   "execution_count": 78,
   "metadata": {},
   "outputs": [],
   "source": [
    "def find_value(mydict, val):\n",
    "    out=[]\n",
    "    list=mydict.items()\n",
    "    for item in list:\n",
    "        if item[1]==val:\n",
    "            out.append(item[0])\n",
    "    return out"
   ]
  },
  {
   "cell_type": "code",
   "execution_count": 79,
   "metadata": {
    "scrolled": true
   },
   "outputs": [
    {
     "name": "stdout",
     "output_type": "stream",
     "text": [
      "Decrypt or Encrypt(D/E): E\n",
      "Enter the message you wish to encrypt: V tnir n pel bs nfgbavfuzrag. V fnj naq gubhtug abguvat bs gur bgure sbhe Znegvna zbafgref; zl nggragvba jnf evirgrq hcba gur arnere vapvqrag. Fvzhygnarbhfyl gjb bgure furyyf ohefg va gur nve arne gur obql nf gur ubbq gjvfgrq ebhaq va gvzr gb erprvir, ohg abg va gvzr gb qbqtr, gur sbhegu furyy.\n",
      "\n",
      "Enter the number to shift by: 13\n",
      "\n",
      "i gave a cry of astonishment i saw and thought nothing of the other four martian monsters my attention was riveted upon the nearer incident simultaneously two other shells burst in the air near the body as the hood twisted round in time to receive but not in time to dodge the fourth shell\n"
     ]
    }
   ],
   "source": [
    "choice=input(\"Decrypt or Encrypt(D/E): \")\n",
    "if choice is 'E':\n",
    "    message=input(\"Enter the message you wish to encrypt: \").replace('.',\"\").replace(',',\"\").replace(':',\"\").replace(';',\"\")\n",
    "    print()\n",
    "    num=int(input(\"Enter the number to shift by: \"))\n",
    "    print()\n",
    "    caesar_encrypt(message, num)\n",
    "elif choice is 'D':\n",
    "    boo=input(\"Do you know the cipher used?(Y/N): \")\n",
    "    if boo is 'Y':\n",
    "        message=input(\"Enter the message you wish to decrypt: \").replace('.',\"\").replace(',',\"\").replace(':',\"\").replace(';',\"\")\n",
    "        print()\n",
    "        num=int(input(\"Enter the number the message is shifted by: \"))\n",
    "        print()\n",
    "        caesar_decrypt(message, num)\n",
    "    elif boo is 'N':\n",
    "        message=input(\"Enter the message you wish to decrypt: \").replace('.',\"\").replace(',',\"\").replace(':',\"\").replace(';',\"\")\n",
    "        print()\n",
    "        caesar_find_and_decrypt(message)"
   ]
  },
  {
   "cell_type": "code",
   "execution_count": null,
   "metadata": {},
   "outputs": [],
   "source": []
  },
  {
   "cell_type": "code",
   "execution_count": null,
   "metadata": {},
   "outputs": [],
   "source": []
  }
 ],
 "metadata": {
  "kernelspec": {
   "display_name": "Python 3",
   "language": "python",
   "name": "python3"
  },
  "language_info": {
   "codemirror_mode": {
    "name": "ipython",
    "version": 3
   },
   "file_extension": ".py",
   "mimetype": "text/x-python",
   "name": "python",
   "nbconvert_exporter": "python",
   "pygments_lexer": "ipython3",
   "version": "3.6.5"
  }
 },
 "nbformat": 4,
 "nbformat_minor": 2
}
