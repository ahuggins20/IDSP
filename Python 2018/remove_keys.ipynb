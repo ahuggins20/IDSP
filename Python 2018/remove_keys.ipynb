{
 "cells": [
  {
   "cell_type": "code",
   "execution_count": 4,
   "metadata": {},
   "outputs": [
    {
     "name": "stdout",
     "output_type": "stream",
     "text": [
      "{'key2': 2}\n",
      "{'key2': 2}\n"
     ]
    }
   ],
   "source": [
    "def remove_keys(mydict, keylist):\n",
    "    for key in keylist:\n",
    "        if key in mydict:\n",
    "            del mydict[key]\n",
    "    \n",
    "    return mydict\n",
    "def remove_less1(mydict):\n",
    "    for key in mydict:\n",
    "        if mydict[key]<=1:\n",
    "            del mydict[key]\n",
    "    return mydict\n",
    "d={\"key1\":0, \"key2\":2}\n",
    "keys=[\"key1\",\"key3\",\"key5\"]\n",
    "print(remove_keys(d, keys))\n",
    "print(remove_less1(d))"
   ]
  },
  {
   "cell_type": "code",
   "execution_count": null,
   "metadata": {},
   "outputs": [],
   "source": []
  }
 ],
 "metadata": {
  "kernelspec": {
   "display_name": "Python 3",
   "language": "python",
   "name": "python3"
  },
  "language_info": {
   "codemirror_mode": {
    "name": "ipython",
    "version": 3
   },
   "file_extension": ".py",
   "mimetype": "text/x-python",
   "name": "python",
   "nbconvert_exporter": "python",
   "pygments_lexer": "ipython3",
   "version": "3.6.5"
  }
 },
 "nbformat": 4,
 "nbformat_minor": 2
}
