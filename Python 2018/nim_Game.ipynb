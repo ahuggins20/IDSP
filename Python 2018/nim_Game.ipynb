{
 "cells": [
  {
   "cell_type": "code",
   "execution_count": 19,
   "metadata": {},
   "outputs": [
    {
     "name": "stdout",
     "output_type": "stream",
     "text": [
      "Get the last coin\n",
      "There are 12 left. How many do you want to take? (1-3) 1\n",
      "The Computer took 3 coins\n",
      "There are 8 left. How many do you want to take? (1-3) 2\n",
      "The Computer took 2 coins\n",
      "There are 4 left. How many do you want to take? (1-3) 1\n",
      "The Computer took 3 coins\n",
      "You lose\n"
     ]
    }
   ],
   "source": [
    "def nim_Game():\n",
    "    print(\"Get the last coin\")\n",
    "    numCoins=12\n",
    "    while numCoins > 0:\n",
    "        inNum=input(\"There are \"+str(numCoins)+\" left. How many do you want to take? (1-3) \")\n",
    "        num=int(inNum)\n",
    "        numCoins-=num\n",
    "        if numCoins==0:\n",
    "            print(\"You win\")\n",
    "            break;\n",
    "        numCoins-=(4-num)\n",
    "        print(\"The Computer took \"+str(4-num)+\" coins\")\n",
    "        if numCoins==0:\n",
    "            print(\"You lose\")\n",
    "            break;\n",
    "nim_Game()"
   ]
  },
  {
   "cell_type": "code",
   "execution_count": null,
   "metadata": {},
   "outputs": [],
   "source": [
    "12"
   ]
  },
  {
   "cell_type": "code",
   "execution_count": null,
   "metadata": {},
   "outputs": [],
   "source": []
  },
  {
   "cell_type": "code",
   "execution_count": null,
   "metadata": {},
   "outputs": [],
   "source": []
  }
 ],
 "metadata": {
  "kernelspec": {
   "display_name": "Python 3",
   "language": "python",
   "name": "python3"
  },
  "language_info": {
   "codemirror_mode": {
    "name": "ipython",
    "version": 3
   },
   "file_extension": ".py",
   "mimetype": "text/x-python",
   "name": "python",
   "nbconvert_exporter": "python",
   "pygments_lexer": "ipython3",
   "version": "3.6.5"
  }
 },
 "nbformat": 4,
 "nbformat_minor": 2
}
