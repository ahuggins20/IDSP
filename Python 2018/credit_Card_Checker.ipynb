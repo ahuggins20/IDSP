{
 "cells": [
  {
   "cell_type": "code",
   "execution_count": 6,
   "metadata": {},
   "outputs": [],
   "source": [
    "def credit_Card_Checker():\n",
    "    cardNum=input(\"Enter a credit card number: \")\n",
    "    result=is_Valid(cardNum)\n",
    "    if result==True:\n",
    "        print(cardNum+\" is valid\")\n",
    "    else:\n",
    "        print(cardNum+\" is invalid\")\n",
    "        \n",
    "def is_Valid(cardNum):\n",
    "    if get_Size(cardNum)<13 or get_Size(cardNum)>16:\n",
    "        return False\n",
    "    if prefix_Matched(cardNum,4)!=False and prefix_Matched(cardNum,5)!=False and prefix_Matched(cardNum,6)!=False and prefix_Matched(cardNum,37)!=False:\n",
    "        return False\n",
    "    if (sum_Of_Odd_Place(cardNum)+sum_Of_Double_Even_Place(cardNum))%10==0:\n",
    "        return True\n",
    "    return False\n",
    "\n",
    "def sum_Of_Double_Even_Place(cardNum):\n",
    "    sum=0\n",
    "    x=len(cardNum)-2\n",
    "    while x>-1:\n",
    "        sum+=get_Digit(2*int(cardNum[x]))\n",
    "        x-=2\n",
    "    print(\"even\"+str(sum))\n",
    "    return sum\n",
    "\n",
    "def get_Digit(num):\n",
    "    if num>=10:\n",
    "        return 1+num%10\n",
    "    else:\n",
    "        return num\n",
    "    \n",
    "def sum_Of_Odd_Place(cardNum):\n",
    "    sum=0\n",
    "    x=len(cardNum)-1\n",
    "    while x>-1:\n",
    "        sum+=int(cardNum[x])\n",
    "        x-=2\n",
    "    print(sum)\n",
    "    return sum\n",
    "\n",
    "def prefix_Matched(cardNum, d):\n",
    "    if int(get_Prefix(cardNum, get_Size(str(d))))==d:\n",
    "        return True\n",
    "    return False\n",
    "\n",
    "def get_Size(cardNum):\n",
    "    return len(cardNum)\n",
    "\n",
    "def get_Prefix(cardNum, k):\n",
    "    return cardNum[:k]"
   ]
  },
  {
   "cell_type": "code",
   "execution_count": 7,
   "metadata": {
    "scrolled": true
   },
   "outputs": [
    {
     "name": "stdout",
     "output_type": "stream",
     "text": [
      "Enter a credit card number: 4388576018410707\n",
      "41\n",
      "even29\n",
      "4388576018410707 is valid\n"
     ]
    }
   ],
   "source": [
    "credit_Card_Checker()"
   ]
  },
  {
   "cell_type": "code",
   "execution_count": 57,
   "metadata": {
    "scrolled": false
   },
   "outputs": [
    {
     "name": "stdout",
     "output_type": "stream",
     "text": [
      "10\n"
     ]
    },
    {
     "data": {
      "text/plain": [
       "10"
      ]
     },
     "execution_count": 57,
     "metadata": {},
     "output_type": "execute_result"
    }
   ],
   "source": [
    "sum_Of_Double_Even_Place(\"18410707\")"
   ]
  },
  {
   "cell_type": "code",
   "execution_count": null,
   "metadata": {},
   "outputs": [],
   "source": []
  }
 ],
 "metadata": {
  "kernelspec": {
   "display_name": "Python 3",
   "language": "python",
   "name": "python3"
  },
  "language_info": {
   "codemirror_mode": {
    "name": "ipython",
    "version": 3
   },
   "file_extension": ".py",
   "mimetype": "text/x-python",
   "name": "python",
   "nbconvert_exporter": "python",
   "pygments_lexer": "ipython3",
   "version": "3.6.5"
  }
 },
 "nbformat": 4,
 "nbformat_minor": 2
}
