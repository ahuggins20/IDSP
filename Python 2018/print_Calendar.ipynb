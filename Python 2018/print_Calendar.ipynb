{
 "cells": [
  {
   "cell_type": "code",
   "execution_count": 12,
   "metadata": {},
   "outputs": [],
   "source": [
    "def print_Calendar():\n",
    "    year=int(input(\"Enter the year: \"))\n",
    "    month=int(input(\"Enter month as a number(1-12): \"))\n",
    "    print_Month(year, month)"
   ]
  },
  {
   "cell_type": "code",
   "execution_count": 2,
   "metadata": {},
   "outputs": [],
   "source": [
    "def print_Month(year, month):\n",
    "    print_Month_Title(year, month)\n",
    "    print_Month_Body(year, month)"
   ]
  },
  {
   "cell_type": "code",
   "execution_count": 3,
   "metadata": {},
   "outputs": [],
   "source": [
    "def print_Month_Title(year, month):\n",
    "    out=get_Month_Name(month)+\" \"+str(year)\n",
    "    print(out.center(28))\n",
    "    print(\"---------------------------\")"
   ]
  },
  {
   "cell_type": "code",
   "execution_count": 4,
   "metadata": {},
   "outputs": [],
   "source": [
    "def print_Month_Body(year, month):\n",
    "    days=[\"Sun\",\"Mon\",\"Tue\",\"Wed\",\"Thu\",\"Fri\",\"Sat\"]\n",
    "    print(*days, sep=\" \")\n",
    "    list=['',0,0,0,0,0,0]\n",
    "    for i in range(1, len(list)):\n",
    "        list[i]=\"    \"+list[i-1]\n",
    "    start=get_Start_Day(year, month)-1\n",
    "    print(list[start], end=\"\")\n",
    "    if start==-1:\n",
    "        start=6\n",
    "    for x in range(1,get_Number_Of_Days_In_Month(year, month)+1):\n",
    "        print('{:>3}'.format(str(x)), end=\" \")\n",
    "        start+=1\n",
    "        if start==7:\n",
    "            start=0\n",
    "            print()\n",
    "    print()"
   ]
  },
  {
   "cell_type": "code",
   "execution_count": 5,
   "metadata": {},
   "outputs": [],
   "source": [
    "def get_Month_Name(month):\n",
    "    months=[\"January\", \"February\",\"March\",\"April\",\"May\",\"June\",\"July\",\"August\",\"September\",\"October\",\"November\",\"December\"]\n",
    "    return months[month-1]"
   ]
  },
  {
   "cell_type": "code",
   "execution_count": 6,
   "metadata": {},
   "outputs": [],
   "source": [
    "def get_Start_Day(year, month):\n",
    "    if month==1 or month==2:\n",
    "        month+=12\n",
    "        year-=1\n",
    "    h=1\n",
    "    h+=int((26*(month+1))/10)\n",
    "    h+=year%100\n",
    "    h+=int((year%100)/4)\n",
    "    h+=int(int(year/100)/4)\n",
    "    h+=int(5*int(year/100))\n",
    "    return h%7"
   ]
  },
  {
   "cell_type": "code",
   "execution_count": 7,
   "metadata": {},
   "outputs": [],
   "source": [
    "def get_Number_Of_Days_In_Month(year, month):\n",
    "    if is_Leap_Year(year) is True:\n",
    "        list=[31,29,31,30,31,30,31,31,30,31,30,31]\n",
    "    else:\n",
    "        list=[31,28,31,30,31,30,31,31,30,31,30,31]\n",
    "    return list[month-1]"
   ]
  },
  {
   "cell_type": "code",
   "execution_count": 8,
   "metadata": {},
   "outputs": [],
   "source": [
    "def is_Leap_Year(year):\n",
    "    return(year%400==0 or (year%4==0 and year%100!=0))"
   ]
  },
  {
   "cell_type": "code",
   "execution_count": 16,
   "metadata": {
    "scrolled": true
   },
   "outputs": [
    {
     "name": "stdout",
     "output_type": "stream",
     "text": [
      "Enter the year: 1\n",
      "Enter month as a number(1-12): 12\n",
      "         December 1         \n",
      "---------------------------\n",
      "Sun Mon Tue Wed Thu Fri Sat\n",
      "                          1 \n",
      "  2   3   4   5   6   7   8 \n",
      "  9  10  11  12  13  14  15 \n",
      " 16  17  18  19  20  21  22 \n",
      " 23  24  25  26  27  28  29 \n",
      " 30  31 \n"
     ]
    }
   ],
   "source": [
    "print_Calendar()"
   ]
  },
  {
   "cell_type": "code",
   "execution_count": null,
   "metadata": {},
   "outputs": [],
   "source": []
  },
  {
   "cell_type": "code",
   "execution_count": null,
   "metadata": {},
   "outputs": [],
   "source": []
  }
 ],
 "metadata": {
  "kernelspec": {
   "display_name": "Python 3",
   "language": "python",
   "name": "python3"
  },
  "language_info": {
   "codemirror_mode": {
    "name": "ipython",
    "version": 3
   },
   "file_extension": ".py",
   "mimetype": "text/x-python",
   "name": "python",
   "nbconvert_exporter": "python",
   "pygments_lexer": "ipython3",
   "version": "3.6.5"
  }
 },
 "nbformat": 4,
 "nbformat_minor": 2
}
