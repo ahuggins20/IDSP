{
 "cells": [
  {
   "cell_type": "code",
   "execution_count": 13,
   "metadata": {},
   "outputs": [],
   "source": [
    "def tup_ex1():\n",
    "    file=open(\"Desktop/CS5/mbox.txt\",\"r\")\n",
    "    list=file.readlines()\n",
    "    emails=[]\n",
    "    for ele in list:\n",
    "        words=ele.split(\" \")\n",
    "        if words[0]==\"From\":\n",
    "            emails.append(words[1])\n",
    "    dict={}\n",
    "    for email in emails:\n",
    "        dict[email]=0\n",
    "    for email in emails:\n",
    "        dict[email]+=1\n",
    "    tupleList=[]\n",
    "    for key in dict:\n",
    "        tupleList.append((dict[key],key))\n",
    "    maxNum=0\n",
    "    for ele in tupleList:\n",
    "        if ele[0]>maxNum:\n",
    "            maxNum=ele[0]\n",
    "            theKey=key\n",
    "    print(theKey+\" \"+ str(maxNum))"
   ]
  },
  {
   "cell_type": "code",
   "execution_count": 14,
   "metadata": {},
   "outputs": [
    {
     "name": "stdout",
     "output_type": "stream",
     "text": [
      "colin.clark@utoronto.ca 195\n"
     ]
    }
   ],
   "source": [
    "tup_ex1()"
   ]
  },
  {
   "cell_type": "code",
   "execution_count": 41,
   "metadata": {},
   "outputs": [],
   "source": [
    "def tup_ex2():\n",
    "    file=open(\"Desktop/CS5/mbox-short.txt\",\"r\")\n",
    "    list=file.readlines()\n",
    "    hours=[]\n",
    "    for ele in list:\n",
    "        words=ele.split(\" \")\n",
    "        if words[0]==\"From\":\n",
    "            hours.append(words[6])\n",
    "    dict={}\n",
    "    keyList=[]\n",
    "    for hour in hours:\n",
    "        temp=hour.split(\":\")\n",
    "        dict[temp[0]]=0\n",
    "        keyList.append(temp[0])\n",
    "    for key in keyList:\n",
    "        dict[key]+=1\n",
    "    tupleList=[]\n",
    "    for key in dict:\n",
    "        tupleList.append((key,dict[key]))\n",
    "    tupleList.sort()\n",
    "    for ele in tupleList:\n",
    "        print(str(ele[0])+\" \"+str(ele[1]))"
   ]
  },
  {
   "cell_type": "code",
   "execution_count": 42,
   "metadata": {},
   "outputs": [
    {
     "name": "stdout",
     "output_type": "stream",
     "text": [
      "04 3\n",
      "06 1\n",
      "07 1\n",
      "09 2\n",
      "10 3\n",
      "11 6\n",
      "14 1\n",
      "15 2\n",
      "16 4\n",
      "17 2\n",
      "18 1\n",
      "19 1\n"
     ]
    }
   ],
   "source": [
    "tup_ex2()"
   ]
  },
  {
   "cell_type": "code",
   "execution_count": 63,
   "metadata": {},
   "outputs": [],
   "source": [
    "def tup_ex3():\n",
    "    file=open(\"Desktop/CS5/words.txt\",'r')\n",
    "    dict={\n",
    "        'a':0,'b':0,'c':0,'d':0,'e':0,'f':0,'g':0,'h':0,\n",
    "        'i':0,'j':0,'k':0,'l':0,'m':0,'n':0,'o':0,'p':0,\n",
    "        'q':0,'r':0,'s':0,'t':0,'u':0,'v':0,'w':0,'x':0,\n",
    "        'y':0,'z':0\n",
    "    }\n",
    "    words=file.read()\n",
    "    #print(words)\n",
    "    words.lower()\n",
    "    #print(words)\n",
    "    for x in range(0,len(words)):\n",
    "        if words[x].lower() in dict.keys():\n",
    "            dict[words[x].lower()]+=1\n",
    "    tupleList=[]\n",
    "    for key in dict:\n",
    "        tupleList.append((dict[key], key))\n",
    "    tupleList.sort(reverse=True)\n",
    "    for ele in tupleList:\n",
    "        print(str(ele[1])+\": \"+str(ele[0]))"
   ]
  },
  {
   "cell_type": "code",
   "execution_count": 64,
   "metadata": {},
   "outputs": [
    {
     "name": "stdout",
     "output_type": "stream",
     "text": [
      "o: 91\n",
      "e: 89\n",
      "t: 82\n",
      "n: 72\n",
      "a: 70\n",
      "r: 59\n",
      "s: 58\n",
      "i: 57\n",
      "u: 45\n",
      "l: 40\n",
      "h: 35\n",
      "m: 30\n",
      "w: 29\n",
      "g: 28\n",
      "d: 28\n",
      "p: 23\n",
      "y: 21\n",
      "f: 21\n",
      "c: 21\n",
      "k: 16\n",
      "v: 13\n",
      "b: 10\n",
      "x: 3\n",
      "q: 1\n",
      "z: 0\n",
      "j: 0\n"
     ]
    }
   ],
   "source": [
    "tup_ex3()"
   ]
  },
  {
   "cell_type": "code",
   "execution_count": null,
   "metadata": {},
   "outputs": [],
   "source": []
  }
 ],
 "metadata": {
  "kernelspec": {
   "display_name": "Python 3",
   "language": "python",
   "name": "python3"
  },
  "language_info": {
   "codemirror_mode": {
    "name": "ipython",
    "version": 3
   },
   "file_extension": ".py",
   "mimetype": "text/x-python",
   "name": "python",
   "nbconvert_exporter": "python",
   "pygments_lexer": "ipython3",
   "version": "3.6.5"
  }
 },
 "nbformat": 4,
 "nbformat_minor": 2
}
